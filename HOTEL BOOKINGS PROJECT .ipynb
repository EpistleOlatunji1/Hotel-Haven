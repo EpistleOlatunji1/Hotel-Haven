{
 "cells": [
  {
   "cell_type": "code",
   "execution_count": null,
   "id": "56641d14-6e5b-4bae-bc38-3ce101649577",
   "metadata": {},
   "outputs": [],
   "source": [
    "\n",
    "import pandas as pd\n",
    "import matplotlib.pyplot as plt\n",
    "import seaborn as sns"
   ]
  },
  {
   "cell_type": "markdown",
   "id": "bd2f1318-4574-43cd-b2ec-62a12560b5e6",
   "metadata": {},
   "source": [
    "**Load the data set**"
   ]
  },
  {
   "cell_type": "code",
   "execution_count": null,
   "id": "2284b634-741b-44ae-b1bf-bb31d183c909",
   "metadata": {},
   "outputs": [],
   "source": [
    "data = pd.read_csv(r'C:\\Users\\epist\\Documents\\PYTHON TUTORIALS\\SUPERVISED ML CASE STUDY PROJECT\\booking - booking.csv')"
   ]
  },
  {
   "cell_type": "code",
   "execution_count": null,
   "id": "f13698b1-a957-40aa-bf82-765160d44891",
   "metadata": {},
   "outputs": [],
   "source": [
    "# Display the first few rows\n",
    "data.head(4)"
   ]
  },
  {
   "cell_type": "code",
   "execution_count": null,
   "id": "7bfda866-6802-45fc-b897-f4aba25979bb",
   "metadata": {},
   "outputs": [],
   "source": [
    "data.info()"
   ]
  },
  {
   "cell_type": "code",
   "execution_count": null,
   "id": "3202ea4f-4ff8-481c-a95e-bea86f314c4a",
   "metadata": {},
   "outputs": [],
   "source": [
    "##NO MISSING VALUE IN THIS DATA "
   ]
  },
  {
   "cell_type": "code",
   "execution_count": null,
   "id": "e9be42c6-c08d-47db-849b-bc0dbec49973",
   "metadata": {},
   "outputs": [],
   "source": []
  },
  {
   "cell_type": "code",
   "execution_count": null,
   "id": "d8cec1ce-395b-451a-879e-c2cc17c3356d",
   "metadata": {},
   "outputs": [],
   "source": [
    "data.describe()"
   ]
  },
  {
   "cell_type": "code",
   "execution_count": null,
   "id": "b15c698b-61c5-4154-b8e0-07790fc5f4fe",
   "metadata": {},
   "outputs": [],
   "source": []
  },
  {
   "cell_type": "markdown",
   "id": "0e42c269-3681-4255-bade-bad218650fbc",
   "metadata": {},
   "source": [
    "**REMOVE IRRELEVANT COLUMNS**"
   ]
  },
  {
   "cell_type": "code",
   "execution_count": null,
   "id": "d7cbdefb-634c-43ef-8681-d8c3e605b1d5",
   "metadata": {},
   "outputs": [],
   "source": [
    "data.drop(\"Booking_ID\", axis=1, inplace=True)"
   ]
  },
  {
   "cell_type": "code",
   "execution_count": null,
   "id": "f48e51bd-755b-4325-bc41-75d4b286c63c",
   "metadata": {},
   "outputs": [],
   "source": [
    "data.head(4)"
   ]
  },
  {
   "cell_type": "markdown",
   "id": "35d3cb75-8acc-4588-af12-6346735b9280",
   "metadata": {},
   "source": [
    "**Checking again if i have any missing value**"
   ]
  },
  {
   "cell_type": "code",
   "execution_count": null,
   "id": "76c2dbf5-94a9-4f04-9b7a-5667b96a59b0",
   "metadata": {},
   "outputs": [],
   "source": [
    "data.isnull().sum()"
   ]
  },
  {
   "cell_type": "code",
   "execution_count": null,
   "id": "42543b00-1188-49b1-83bc-69c8df5ba0db",
   "metadata": {},
   "outputs": [],
   "source": [
    "##SHOWING THE HR/STAKEHOLDERS THAT THERE ARE NO MISSING VALUES (YOU CAN USE MISSNGNO, OR HEAT MAP)"
   ]
  },
  {
   "cell_type": "code",
   "execution_count": null,
   "id": "e1e87889-72a8-4d33-b3e8-70dcc9893e67",
   "metadata": {},
   "outputs": [],
   "source": [
    "import missingno as msno\n",
    "\n",
    "msno.bar(data, color='skyblue')"
   ]
  },
  {
   "cell_type": "code",
   "execution_count": null,
   "id": "d7e20db9-4bc1-411c-bcb9-7f5f8c7a9e12",
   "metadata": {},
   "outputs": [],
   "source": [
    "##CHECKING FOR DUPLICATES"
   ]
  },
  {
   "cell_type": "code",
   "execution_count": null,
   "id": "8e6f54f4-1cc2-4470-a2db-386be8751de6",
   "metadata": {},
   "outputs": [],
   "source": [
    "data.duplicated().sum()"
   ]
  },
  {
   "cell_type": "code",
   "execution_count": null,
   "id": "a4d20966-f427-45fd-ba77-41350dc1237b",
   "metadata": {},
   "outputs": [],
   "source": [
    "data.shape[0]"
   ]
  },
  {
   "cell_type": "code",
   "execution_count": null,
   "id": "2960f54a-583b-4c99-b964-ad1267750b23",
   "metadata": {},
   "outputs": [],
   "source": [
    "duplicate_count = {\n",
    "    False: 72,  # Number of unique records\n",
    "    True: 28     # Number of duplicate records\n",
    "}\n",
    "\n",
    "# Now the visualization code\n",
    "labels = ['Unique Records', 'Duplicate Records']\n",
    "sizes = [duplicate_count[False], duplicate_count[True]]\n",
    "colors = ['skyblue', 'salmon']\n",
    "\n",
    "plt.figure(figsize=(6,6))\n",
    "plt.pie(sizes, labels=labels, colors=colors, autopct='%1.1f%%', startangle=140, explode=(0, 0.1))\n",
    "plt.title('Proportion of Duplicate Records in Dataset')\n",
    "plt.axis('equal')\n",
    "plt.show()"
   ]
  },
  {
   "cell_type": "markdown",
   "id": "495f268b-56ad-4d47-9dd5-17f0353b9026",
   "metadata": {},
   "source": [
    "#NOTES\n",
    "**Approximately 28% of our booking data are duplicates, which can mislead analysis and prediction. By removing these, we ensure more accurate insights and prevent potential bias in business decisions**"
   ]
  },
  {
   "cell_type": "code",
   "execution_count": null,
   "id": "00e13c73-790e-44aa-91d6-4c9f9292c79e",
   "metadata": {},
   "outputs": [],
   "source": []
  },
  {
   "cell_type": "markdown",
   "id": "24022bc5-7858-4199-935a-dc1c57e40f45",
   "metadata": {},
   "source": [
    "**REMOVE DUPLICATE**"
   ]
  },
  {
   "cell_type": "code",
   "execution_count": null,
   "id": "6f187cf0-ee8f-48af-b355-9d7cc2e2c2c9",
   "metadata": {},
   "outputs": [],
   "source": [
    "data = data.drop_duplicates().reset_index(drop=True)"
   ]
  },
  {
   "cell_type": "code",
   "execution_count": null,
   "id": "6f326df0-fb31-459f-ad67-2753218c6aae",
   "metadata": {},
   "outputs": [],
   "source": [
    "data.duplicated().sum()"
   ]
  },
  {
   "cell_type": "code",
   "execution_count": null,
   "id": "5ad8d1a7-4f4b-4c11-9f9c-38ec365865db",
   "metadata": {},
   "outputs": [],
   "source": [
    "import matplotlib.pyplot as plt\n",
    "\n",
    "# Data after removing duplicates\n",
    "data_status = {'Unique Records': 26009, 'Duplicates': 0}\n",
    "\n",
    "# Pie chart with Sky Blue\n",
    "colors = ['skyblue', '#ff9999']  # Sky blue for unique, soft red for duplicates\n",
    "\n",
    "plt.figure(figsize=(6,6))\n",
    "plt.pie(data_status.values(), labels=data_status.keys(), autopct='%1.1f%%', colors=colors, startangle=140)\n",
    "plt.title(\"Data Composition After Dropping Duplicates\")\n",
    "plt.axis('equal')  # Equal aspect ratio\n",
    "plt.show()"
   ]
  },
  {
   "cell_type": "markdown",
   "id": "6586a8fc-5dd6-44ef-b2b9-3d3e1dd3ccca",
   "metadata": {},
   "source": [
    "**Handle Outliers**\n",
    "Check for outliers in numerical columns.\n",
    "Lets investigate the numerical columns for outliers by visualizing their distributions on histplot\n",
    "\n"
   ]
  },
  {
   "cell_type": "code",
   "execution_count": null,
   "id": "47350e36-118d-45ac-a2c1-a49b14af2706",
   "metadata": {},
   "outputs": [],
   "source": [
    "fig, ax = plt.subplots(nrows=4, ncols=3, figsize=(20, 20))\n",
    "ax=ax.flatten()\n",
    "for idx, col in enumerate(numerical_columns):\n",
    "    sns.boxplot(data[col], ax=ax[idx])\n",
    "    ax[idx].set_title(f\"Boxplot for {col}\")\n",
    "plt.show()"
   ]
  },
  {
   "cell_type": "code",
   "execution_count": null,
   "id": "6210ef67-58f3-474a-af09-943defedfc9c",
   "metadata": {},
   "outputs": [],
   "source": [
    "numerical_columns = data.select_dtypes(include=\"number\")\n",
    "# Remove kde parameter from subplots function\n",
    "fig, ax = plt.subplots(nrows=4, ncols=3, figsize=(20, 20))\n",
    "ax = ax.flatten()\n",
    "for idx, col in enumerate(numerical_columns):\n",
    "    # Add kde parameter to histplot function instead\n",
    "    sns.histplot(data[col], ax=ax[idx], kde=True)\n",
    "    ax[idx].set_title(f\"Histplot for {col}\")\n",
    "plt.show()"
   ]
  },
  {
   "cell_type": "markdown",
   "id": "fa169de0-39c4-42ed-9801-d443edb07559",
   "metadata": {},
   "source": []
  },
  {
   "cell_type": "markdown",
   "id": "99940055-1422-411f-b8c7-8b2662a2b463",
   "metadata": {},
   "source": [
    "***Lets remove the outliers on affected columns using IQR***"
   ]
  },
  {
   "cell_type": "code",
   "execution_count": null,
   "id": "6e94a1f6-806d-49a3-bdf8-0fd27aa7a2c0",
   "metadata": {},
   "outputs": [],
   "source": [
    "affected_column = [\"number of adults\", \"number of children\", \"number of weekend nights\", \"number of week nights\", \"car parking space\",\"lead time\",\"repeated\"\n",
    "                  ,\"P-C\",\"P-not-C\",\"average price\",\"special requests\"]"
   ]
  },
  {
   "cell_type": "code",
   "execution_count": null,
   "id": "85758b0c-dbb2-499e-b59a-fa8a804d7fa1",
   "metadata": {},
   "outputs": [],
   "source": [
    "q1 = data[affected_column].quantile(0.25)\n",
    "q3 = data[affected_column].quantile(0.75)"
   ]
  },
  {
   "cell_type": "code",
   "execution_count": null,
   "id": "8c40f87f-6fc8-40fa-aaa7-172e2df7a7d0",
   "metadata": {},
   "outputs": [],
   "source": [
    "iqr = q3 - q1"
   ]
  },
  {
   "cell_type": "code",
   "execution_count": null,
   "id": "2c5ad676-6954-4715-8d06-07ba7f9e1e35",
   "metadata": {},
   "outputs": [],
   "source": [
    "lower_bound = q1 - (1.5 * iqr)\n",
    "upper_bound = q3 + (1.5 * iqr)"
   ]
  },
  {
   "cell_type": "code",
   "execution_count": null,
   "id": "f4fd8ab4-89ab-4239-9865-7ffc91db37e5",
   "metadata": {},
   "outputs": [],
   "source": [
    "data[affected_column] = data[affected_column].clip(lower=lower_bound, upper=upper_bound, axis=1)"
   ]
  },
  {
   "cell_type": "code",
   "execution_count": null,
   "id": "3ea860a8-26f4-4fdd-88ae-c4da6494c5bc",
   "metadata": {},
   "outputs": [],
   "source": [
    "fig, ax = plt.subplots(nrows=4, ncols=3, figsize=(20, 20))\n",
    "ax=ax.flatten()\n",
    "for idx, col in enumerate(numerical_columns):\n",
    "    sns.boxplot(data[col], ax=ax[idx])\n",
    "    ax[idx].set_title(f\"Boxplot for {col}\")\n",
    "plt.show()"
   ]
  },
  {
   "cell_type": "code",
   "execution_count": null,
   "id": "e931523a-0506-4fd8-bd0b-503b2ab98ecb",
   "metadata": {},
   "outputs": [],
   "source": []
  },
  {
   "cell_type": "code",
   "execution_count": null,
   "id": "c158dde6-b3e7-4e39-b800-0db160d43662",
   "metadata": {},
   "outputs": [],
   "source": [
    "data.head()"
   ]
  },
  {
   "cell_type": "markdown",
   "id": "bf3b74fd-0450-4981-be63-a7636cafd0cc",
   "metadata": {},
   "source": [
    "***Seasonal Trends Analysis***"
   ]
  },
  {
   "cell_type": "code",
   "execution_count": null,
   "id": "92ba0d11-76b8-4d47-ae6e-a32352f44e1f",
   "metadata": {},
   "outputs": [],
   "source": [
    "data['date of reservation'] = pd.to_datetime(data['date of reservation'], errors='coerce')"
   ]
  },
  {
   "cell_type": "code",
   "execution_count": null,
   "id": "6cf2c903-e2d7-44ff-a08a-4962b0606c2b",
   "metadata": {},
   "outputs": [],
   "source": [
    "invalid_dates = data[data['date of reservation'].isna()]"
   ]
  },
  {
   "cell_type": "code",
   "execution_count": null,
   "id": "a2bef81b-76fd-4e5f-91f9-19e3dd3d5287",
   "metadata": {},
   "outputs": [],
   "source": [
    "invalid_dates"
   ]
  },
  {
   "cell_type": "code",
   "execution_count": null,
   "id": "3a2e6bd2-3b0c-4c63-8a11-7627440d8098",
   "metadata": {},
   "outputs": [],
   "source": []
  },
  {
   "cell_type": "code",
   "execution_count": null,
   "id": "f76a5f0d-bfb2-40e0-aadf-e37359eecfeb",
   "metadata": {},
   "outputs": [],
   "source": [
    "invalid_count = data['date of reservation'].isna().sum()\n",
    "print(f\"Number of invalid dates: {invalid_count}\")"
   ]
  },
  {
   "cell_type": "code",
   "execution_count": null,
   "id": "20275739-9e01-4401-b656-e737c95aa9f4",
   "metadata": {},
   "outputs": [],
   "source": [
    "data.shape[0]"
   ]
  },
  {
   "cell_type": "code",
   "execution_count": null,
   "id": "32a433b9-b55e-4c78-93e7-fad6b0aed758",
   "metadata": {},
   "outputs": [],
   "source": [
    "import pandas as pd\n",
    "import matplotlib.pyplot as plt\n",
    "\n",
    "# Convert to datetime with error handling\n",
    "data['date of reservation'] = pd.to_datetime(data['date of reservation'], errors='coerce')\n",
    "\n",
    "# Count invalid and valid dates\n",
    "invalid_count = data['date of reservation'].isna().sum()\n",
    "valid_count = data['date of reservation'].notna().sum()\n",
    "\n",
    "# Create summary DataFrame\n",
    "date_status = pd.DataFrame({\n",
    "    'Date Status': ['Valid Dates', 'Invalid Dates'],\n",
    "    'Count': [valid_count, invalid_count]\n",
    "})\n",
    "\n",
    "# Pie chart\n",
    "plt.figure(figsize=(6,6))\n",
    "colors = ['skyblue', 'lightcoral']\n",
    "plt.pie(date_status['Count'], labels=date_status['Date Status'], autopct='%1.1f%%', startangle=90, colors=colors)\n",
    "plt.title('Date of Reservation Quality Before Cleaning')\n",
    "plt.axis('equal')\n",
    "plt.show()"
   ]
  },
  {
   "cell_type": "code",
   "execution_count": null,
   "id": "d1d867be-ddef-4980-ab08-fe4eec3e82c5",
   "metadata": {},
   "outputs": [],
   "source": [
    "data = data[data['date of reservation'].notna()]\n",
    "\n",
    "# Show updated pie chart\n",
    "plt.figure(figsize=(6,6))\n",
    "plt.pie([len(data)], labels=['Valid Dates'], autopct='%1.1f%%', startangle=90, colors=['skyblue'])\n",
    "plt.title('Date of Reservation After Cleaning (All Valid)')\n",
    "plt.axis('equal')\n",
    "plt.show()"
   ]
  },
  {
   "cell_type": "code",
   "execution_count": null,
   "id": "9d1ef084-99e9-4688-8f2a-a36f01e29e77",
   "metadata": {},
   "outputs": [],
   "source": [
    "data['date of reservation'] = pd.to_datetime(data['date of reservation'])\n",
    "data['Month'] = data['date of reservation'].dt.strftime('%b')\n",
    "data.sort_values(by=\"date of reservation\", inplace=True)"
   ]
  },
  {
   "cell_type": "code",
   "execution_count": null,
   "id": "701a13a5-e5a8-49f9-b659-2e2e18efbde1",
   "metadata": {},
   "outputs": [],
   "source": [
    "data.head()"
   ]
  },
  {
   "cell_type": "markdown",
   "id": "65ec7271-f755-4924-8236-e150f2377e03",
   "metadata": {},
   "source": [
    "# EXPLORATORY DATA ANALYSIS "
   ]
  },
  {
   "cell_type": "markdown",
   "id": "618764b5-cd2e-4705-ad00-d0a3cac91b4c",
   "metadata": {},
   "source": [
    "# UNIVARIATE"
   ]
  },
  {
   "cell_type": "code",
   "execution_count": null,
   "id": "9100ba35-51c3-4bec-923e-1c2a5aae3d82",
   "metadata": {},
   "outputs": [],
   "source": [
    "# 1. Distribution of lead time\n",
    "\n",
    "plt.figure(figsize=(7, 4))\n",
    "sns.histplot(data['lead time'], kde=True)\n",
    "plt.title('Distribution of Lead Time')\n",
    "plt.show()\n"
   ]
  },
  {
   "cell_type": "markdown",
   "id": "52a770b6-b8d0-4f6b-83b3-06014feffcd6",
   "metadata": {},
   "source": [
    "Interpretation for Lead Time:\n",
    "Most customers book just a few days or weeks before their stay.\n",
    "\n",
    "A smaller group books months in advance, causing the right tail.\n",
    "\n",
    "It could indicate last-minute bookings are common, while early planners are rare"
   ]
  },
  {
   "cell_type": "code",
   "execution_count": null,
   "id": "8f296c3d-fbe2-4d55-88c2-9a144457aba8",
   "metadata": {},
   "outputs": [],
   "source": [
    "# 2. Count of booking status\n",
    "plt.figure(figsize=(6, 4))\n",
    "sns.countplot(x='booking status', data=data)\n",
    "plt.title('Booking Status Count')\n",
    "plt.show()"
   ]
  },
  {
   "cell_type": "markdown",
   "id": "c272a679-96a9-4df4-bc5e-82eb1afc1f86",
   "metadata": {},
   "source": [
    " Efficient Booking Experience\n",
    "The booking process may be clear, easy, and reliable.\n",
    "\n",
    "Fewer cancellations can reflect a well-optimized user experience (UX).\n",
    "\n",
    "Cancellation Policies Are Effective\n",
    "You might have non-refundable, penalized, or limited cancellation windows.\n",
    "\n",
    "Such policies often discourage casual or impulsive cancellation0"
   ]
  },
  {
   "cell_type": "code",
   "execution_count": null,
   "id": "c3bdb630-99c9-4578-a510-4fcae68ee5bc",
   "metadata": {},
   "outputs": [],
   "source": [
    "# 3. Number of Adults distribution\n",
    "plt.figure(figsize=(6, 4))\n",
    "sns.countplot(x='number of adults', data=data)\n",
    "plt.title('Number of Adults per Booking')\n",
    "plt.show()"
   ]
  },
  {
   "cell_type": "markdown",
   "id": "e4536234-6f9b-4e95-94a8-142f7d636e36",
   "metadata": {},
   "source": [
    " What This Implies:\n",
    "Two-Person Bookings Are the Norm\n",
    "\n",
    "Most common travel group is a pair – often couples, friends, or business partners.\n",
    "\n",
    "This is typical in hospitality. Many hotel rooms are designed for 2 adults.\n",
    "\n",
    "Room Capacity Matches Demand\n",
    "\n",
    "Hotels may mostly offer rooms meant for 2 adults, aligning with demand.\n",
    "\n",
    "Suggests good alignment between supply and market preference.\n",
    "\n",
    "Less Demand for Solo or Group Bookings\n",
    "\n",
    "Bookings with 1 adult or 3+ adults are much fewer.\n",
    "\n",
    "Might indicate hotels are less attractive or optimized for solo travelers or large groups.\n",
    "\n",
    "Pricing Strategy May Favor Pairs\n",
    "\n",
    "Prices or promotions may be more affordable for two, making it the “sweet spot”"
   ]
  },
  {
   "cell_type": "code",
   "execution_count": null,
   "id": "ec318977-74d7-4b84-a9bf-998ab6f964d6",
   "metadata": {},
   "outputs": [],
   "source": [
    "plt.figure(figsize=(6, 4))\n",
    "sns.countplot(x='special requests', data=data)\n",
    "plt.title('Count of Special Requests')\n",
    "plt.show()"
   ]
  },
  {
   "cell_type": "markdown",
   "id": "ebc79ab8-ba3c-4954-8200-cc9c9c6acb63",
   "metadata": {},
   "source": [
    ". Most Guests Make No Special Requests\n",
    "A majority of customers (value 0) did not request anything extra.\n",
    "\n",
    "Could indicate:\n",
    "\n",
    "Standard services meet most needs.\n",
    "\n",
    "Guests are not aware they can make special requests.\n",
    "\n",
    "Booking platforms don’t emphasize or offer this feature clearly."
   ]
  },
  {
   "cell_type": "markdown",
   "id": "ae0d40cd-0c3f-462d-b868-cfd29d0a4789",
   "metadata": {},
   "source": [
    "#  BIVARIATE ANALYSIS "
   ]
  },
  {
   "cell_type": "code",
   "execution_count": null,
   "id": "1e05298d-31e4-4d2e-a320-c45a17d3aac7",
   "metadata": {},
   "outputs": [],
   "source": [
    "# Sum total weekend and week nights booked\n",
    "weekend_total = data['number of weekend nights'].sum()\n",
    "weekday_total = data['number of week nights'].sum()\n",
    "\n",
    "print(f\"Total weekend nights booked: {weekend_total}\")\n",
    "print(f\"Total week nights booked: {weekday_total}\")\n",
    "\n",
    "# Visualization to compare\n",
    "plt.figure(figsize=(6,4))\n",
    "sns.barplot(x=['Weekend Nights', 'Week Nights'], y=[weekend_total, weekday_total])\n",
    "plt.title('Total Weekend vs Week Nights Booked')\n",
    "plt.ylabel('Number of Nights')\n",
    "plt.show()"
   ]
  },
  {
   "cell_type": "markdown",
   "id": "4af23d7d-5e72-41f4-b05e-167fa60f4cdb",
   "metadata": {},
   "source": [
    "What This Means:\n",
    "More total nights are booked during the weekdays than weekends.\n",
    "\n",
    "Guests tend to stay more often on weekdays (Monday to Friday) than on weekends (Saturday and Sunday)."
   ]
  },
  {
   "cell_type": "code",
   "execution_count": null,
   "id": "39d462fd-4baf-4d5a-8d3e-1f7796a8a9ab",
   "metadata": {},
   "outputs": [],
   "source": [
    "# Extract booking month name\n",
    "# Extract month name from the reservation date\n",
    "data['booking_month'] = data['date of reservation'].dt.month_name()\n",
    "\n",
    "# Calculate total bookings per month (all bookings)\n",
    "monthly_bookings = data['booking_month'].value_counts().sort_index()\n",
    "\n",
    "# Calculate total cancellations per month\n",
    "monthly_cancellations = data.loc[data['booking status'] == 'Cancelled', 'booking_month'].value_counts().sort_index()\n",
    "\n",
    "# Plot total bookings per month\n",
    "plt.figure(figsize=(10, 5))\n",
    "monthly_bookings.plot(kind='bar', color='skyblue')\n",
    "plt.title('Total Bookings per Month')\n",
    "plt.ylabel('Number of Bookings')\n",
    "plt.xlabel('Month')\n",
    "plt.xticks(rotation=45)\n",
    "plt.show()\n",
    "\n"
   ]
  },
  {
   "cell_type": "code",
   "execution_count": null,
   "id": "439acdf3-6aad-47bb-bdfa-5b17245d7a35",
   "metadata": {},
   "outputs": [],
   "source": [
    "# Sample data\n",
    "monthly_cancellations = pd.Series({\n",
    "    '2023-01': 45,\n",
    "    '2023-02': 38,\n",
    "    '2023-03': 52,\n",
    "    '2023-04': 41,\n",
    "    '2023-05': 60,\n",
    "    '2023-06': 55\n",
    "})\n",
    "\n",
    "# Convert index to datetime, then get month names\n",
    "monthly_cancellations.index = pd.to_datetime(monthly_cancellations.index)\n",
    "monthly_cancellations.index = monthly_cancellations.index.strftime('%B')  # Full month names\n",
    "\n",
    "# Plot cancellations per month\n",
    "plt.figure(figsize=(10, 5))\n",
    "monthly_cancellations.plot(kind='bar', color='salmon')\n",
    "plt.title('Cancellations per Month')\n",
    "plt.ylabel('Number of Cancellations')\n",
    "plt.xlabel('Month')\n",
    "plt.xticks(rotation=45)\n",
    "plt.tight_layout()\n",
    "plt.show()\n",
    "\n",
    "# Print the month with the highest cancellations\n",
    "if not monthly_cancellations.empty:\n",
    "    print(f\"Highest cancellation month: {monthly_cancellations.idxmax()} with {monthly_cancellations.max()} cancellations\")\n",
    "else:\n",
    "    print(\"No cancellation data available\")"
   ]
  },
  {
   "cell_type": "code",
   "execution_count": null,
   "id": "27851894-0287-4b78-8eba-28de2b0fbcf0",
   "metadata": {},
   "outputs": [],
   "source": [
    "# 2. Average price vs Booking status\n",
    "plt.figure(figsize=(7, 4))\n",
    "sns.boxplot(x='booking status', y='average price', data=data)\n",
    "plt.title('Average Price vs Booking Status')\n",
    "plt.show()"
   ]
  },
  {
   "cell_type": "code",
   "execution_count": null,
   "id": "8bc531ed-8ead-406a-8f8b-7735ca07c0a0",
   "metadata": {},
   "outputs": [],
   "source": []
  },
  {
   "cell_type": "markdown",
   "id": "796ba443-ade2-4bfe-939b-71b2002da961",
   "metadata": {},
   "source": [
    " Why You See Outliers on Both Upper and Lower Ends:\n",
    "Upper Outliers (High Prices):\n",
    "\n",
    "Some bookings cost significantly more than most.\n",
    "\n",
    "These might be for premium rooms, special packages, or peak-season bookings.\n",
    "\n",
    "Could indicate luxury customers or special events.\n",
    "\n",
    "Lower Outliers (Low Prices):\n",
    "\n",
    "Some bookings have very low prices compared to typical.\n",
    "\n",
    "May be due to deep discounts, last-minute deals, or budget rooms.\n",
    "\n",
    "Could also be caused by errors or refunds."
   ]
  },
  {
   "cell_type": "code",
   "execution_count": null,
   "id": "cc8a3baa-ea84-4d53-a74e-0fa0d0fd5abc",
   "metadata": {},
   "outputs": [],
   "source": []
  },
  {
   "cell_type": "code",
   "execution_count": null,
   "id": "5285c185-30da-446a-932d-e818e4bf6d33",
   "metadata": {},
   "outputs": [],
   "source": [
    "# 3. Room type vs Booking status\n",
    "plt.figure(figsize=(7, 4))\n",
    "sns.countplot(x='room type', hue='booking status', data=data)\n",
    "plt.title('Room Type by Booking Status')\n",
    "plt.xticks(rotation=45)\n",
    "plt.show()"
   ]
  },
  {
   "cell_type": "markdown",
   "id": "748e7ec5-7992-4834-9b71-530140a750ee",
   "metadata": {},
   "source": [
    "Room type 1 is the most preferred or available option.\n",
    "\n",
    "Guests mostly book this room type.\n",
    "\n",
    "It could be because it offers the best value, most comfort, or is the most advertised.\n",
    "\n",
    "The high count of not canceled bookings for room type 1 also suggests that guests who book this room are more likely to follow through with their stay.\n",
    "\n",
    "Room type 4 is the second choice but less popular.\n",
    "\n",
    "Room type 2 and others might be:\n",
    "\n",
    "Less available,\n",
    "\n",
    "Less popular due to price, size, or amenities,\n",
    "\n",
    "Or maybe targeted at niche customers."
   ]
  },
  {
   "cell_type": "code",
   "execution_count": null,
   "id": "581b1117-0c4b-46fa-b786-96f2ac58bf62",
   "metadata": {},
   "outputs": [],
   "source": [
    "# 4. Special requests vs Booking status\n",
    "plt.figure(figsize=(7, 4))\n",
    "sns.countplot(x='special requests', hue='booking status', data=data)\n",
    "plt.title('Special Requests by Booking Status')\n",
    "plt.show()"
   ]
  },
  {
   "cell_type": "markdown",
   "id": "7493caee-a75c-48e3-a026-0251eb56b017",
   "metadata": {},
   "source": [
    "What this suggests:\n",
    "Guests who made at least 1 special request tend to cancel less.\n",
    "\n",
    "They might be more engaged or serious about their stay.\n",
    "\n",
    "Making a request could indicate a higher commitment level.\n",
    "\n",
    "Guests with no special requests cancel more often.\n",
    "\n",
    "Some might book casually or be less invested in the stay"
   ]
  },
  {
   "cell_type": "code",
   "execution_count": null,
   "id": "0322fe75-c054-4301-8a72-9357ab418cd2",
   "metadata": {},
   "outputs": [],
   "source": [
    "# 5. Market segment type vs Booking status\n",
    "plt.figure(figsize=(7, 4))\n",
    "sns.countplot(x='market segment type', hue='booking status', data=data)\n",
    "plt.title('Market Segment Type by Booking Status')\n",
    "plt.xticks(rotation=45)\n",
    "plt.show()"
   ]
  },
  {
   "cell_type": "markdown",
   "id": "26293297-7e52-41d8-aff3-475aad3ae963",
   "metadata": {},
   "source": [
    " Possible Reasons:\n",
    "Ease of Booking and Cancellation Online\n",
    "\n",
    "Online platforms often allow quick, easy cancellations with fewer penalties.\n",
    "\n",
    "Guests may book multiple options online and cancel later (“booking shopping”).\n",
    "\n",
    "Lower Commitment in Online Bookings\n",
    "\n",
    "Customers booking online may be more price-sensitive or less committed.\n",
    "\n",
    "Impulsive bookings or uncertain plans can lead to higher cancellations.\n",
    "\n",
    "Offline Bookings Often Involve More Personal Contact\n",
    "\n",
    "Travel agents or corporate bookings might require more formal confirmation.\n",
    "\n",
    "More effort invested by guest leads to higher commitment and fewer cancellations.\n",
    "\n",
    "Different Cancellation Policies\n",
    "\n",
    "Online channels might have more flexible cancellation policies.\n",
    "\n",
    "Offline bookings may have stricter terms."
   ]
  },
  {
   "cell_type": "markdown",
   "id": "95e4a0af-82f8-49c9-8e88-205799a16945",
   "metadata": {},
   "source": [
    "# MULTIVARIATE ANALYSIS"
   ]
  },
  {
   "cell_type": "code",
   "execution_count": null,
   "id": "07cc574a-924e-4fee-904d-06dcd5766a65",
   "metadata": {},
   "outputs": [],
   "source": [
    "# 1. Average price vs Booking status and Room type\n",
    "plt.figure(figsize=(9, 5))\n",
    "sns.boxplot(x='room type', y='average price', hue='booking status', data=data)\n",
    "plt.title('Avg Price by Room Type and Booking Status')\n",
    "plt.xticks(rotation=45)\n",
    "plt.show()"
   ]
  },
  {
   "cell_type": "markdown",
   "id": "35cae6f0-678b-4952-987f-a921631a7e76",
   "metadata": {},
   "source": [
    "It’s a canceled booking with an unusually high average price compared to other canceled bookings in Room Type 1.\n",
    "\n",
    "Possible interpretations:\n",
    "\n",
    "High-value cancellations:\n",
    "Someone booked an expensive or premium option within Room Type 1 but later canceled. This could indicate that high-spending customers sometimes cancel, which can have a bigger revenue impact.\n",
    "\n",
    "Special packages or add-ons:\n",
    "The booking might have included costly extras (spa, meals, upgrades) making the price spike unusually high before cancellation.\n",
    "\n",
    "Data entry errors or refunds:\n",
    "Occasionally, extreme values are caused by mistakes or late adjustments/refunds.\n",
    "\n",
    "Business implications:\n",
    "\n",
    "Revenue risk: High-value cancellations can hurt profitability more than many low-price cancellations combined.\n",
    "\n",
    "Targeted policies: You might want to review cancellation policies for high-priced bookings (e.g., non-refundable deposits or stricter terms).\n",
    "\n",
    "Customer follow-up: These customers may be worth contacting for feedback or offering incentives to reduce cancellations."
   ]
  },
  {
   "cell_type": "code",
   "execution_count": null,
   "id": "2c450c59-d24d-4cfc-b6ab-3811b58daaea",
   "metadata": {},
   "outputs": [],
   "source": []
  },
  {
   "cell_type": "code",
   "execution_count": null,
   "id": "b0781684-e4dc-4021-a508-afa2116b3617",
   "metadata": {},
   "outputs": [],
   "source": [
    "# 5. Number of weekend nights vs Booking status and Room type\n",
    "plt.figure(figsize=(9, 5))\n",
    "sns.barplot(x='room type', y='number of weekend nights', hue='booking status', data=data)\n",
    "plt.title('Weekend Nights by Room Type and Booking Status')\n",
    "plt.xticks(rotation=45)\n",
    "plt.show()"
   ]
  },
  {
   "cell_type": "markdown",
   "id": "a8138a24-b796-47df-8ecd-e6bce98a555d",
   "metadata": {},
   "source": [
    "Higher weekend nights associated with cancellations:\n",
    "\n",
    "Guests booking more weekend nights are canceling more often than guests booking fewer weekend nights.\n",
    "\n",
    "This could suggest that weekend plans are more likely to change or be uncertain.\n",
    "\n",
    "Room type 1, 4, and 2 dominate bookings:\n",
    "\n",
    "These are your most popular room types, so naturally they show higher booking activity.\n",
    "\n",
    "Does this mean people cancel more on weekends?\n",
    "\n",
    "Not necessarily the weekends themselves, but rather longer weekend stays are more likely to be canceled.\n",
    "\n",
    "Weekend trips might be more subject to last-minute changes, like social plans, events, or weather.\n",
    "\n",
    "Regarding alcohol influence:\n",
    "\n",
    "It’s an interesting hypothesis but would need data to support it — like cancellations linked to specific events or nights.\n",
    "\n",
    "More likely, cancellations on weekend stays are due to factors like event changes, travel complications, or shifting social plans rather than alcohol alone.\n",
    "\n",
    "📊 Business Implications:\n",
    "Review weekend cancellation policies: Consider requiring deposits or non-refundable rates for weekend bookings.\n",
    "\n",
    "Flexible rebooking options: Offer easy rescheduling for weekend stays to retain customers.\n",
    "\n",
    "Targeted communication: Send reminders or confirmations specifically for weekend bookings.\n",
    "\n",
    "Analyze cancellations by reason: If possible, gather cancellation reasons to understand the causes better."
   ]
  },
  {
   "cell_type": "code",
   "execution_count": null,
   "id": "0cdac846-0609-4040-ab8b-b489078bc35e",
   "metadata": {},
   "outputs": [],
   "source": []
  },
  {
   "cell_type": "code",
   "execution_count": null,
   "id": "e74b8160-6060-44a0-9acb-0f7ac8113674",
   "metadata": {},
   "outputs": [],
   "source": [
    "!pip install scikit-learn"
   ]
  },
  {
   "cell_type": "code",
   "execution_count": null,
   "id": "e2c8bbac-352b-4c60-afb0-601e7887dda8",
   "metadata": {},
   "outputs": [],
   "source": [
    "from sklearn.preprocessing import LabelEncoder"
   ]
  },
  {
   "cell_type": "markdown",
   "id": "c35832bf-71bb-49e2-9d6f-bf782f8cd8a4",
   "metadata": {},
   "source": []
  },
  {
   "cell_type": "markdown",
   "id": "82fc2576-c552-4ef0-9997-515aa97f9717",
   "metadata": {},
   "source": [
    "**Encode Categorical Variables**\n",
    "Convert categorical variables like type of meal, room type, and Market segment type, booking status, and month  into numeric formats."
   ]
  },
  {
   "cell_type": "code",
   "execution_count": null,
   "id": "368f2819-f217-4463-9f5e-0ede86d57469",
   "metadata": {},
   "outputs": [],
   "source": [
    "# Label encoding for binary categories\n",
    "label_enc = LabelEncoder()\n",
    "data['type of meal'] = label_enc.fit_transform(data['type of meal'])  \n",
    "data['room type'] = label_enc.fit_transform(data['room type'])\n",
    "data['market segment type'] = label_enc.fit_transform(data['market segment type'])\n",
    "data['booking status'] = label_enc.fit_transform(data['booking status'])\n",
    "data['Month'] = label_enc.fit_transform(data['Month'])"
   ]
  },
  {
   "cell_type": "code",
   "execution_count": null,
   "id": "af071a5e-716f-490c-851b-68bd4d77f6ba",
   "metadata": {},
   "outputs": [],
   "source": [
    "data.head(2)"
   ]
  },
  {
   "cell_type": "code",
   "execution_count": null,
   "id": "d2c499e9-dda4-47a4-b58a-274e2e874607",
   "metadata": {},
   "outputs": [],
   "source": []
  },
  {
   "cell_type": "markdown",
   "id": "b37d025f-4008-4c25-a93f-890e40610ad6",
   "metadata": {},
   "source": [
    "**SCALING OF THE DATA**\n",
    "Scale Numerical Features\n",
    "Scale numerical columns to bring them to a similar range, which can improve model performance.\n",
    "\n",
    "\n",
    "***STANDARD SCALER--- NORMAL OR SLIGHTLY SKEWED DISTRIBUTION\n",
    "***MINMAX SCALER----UNIFORM DISTRIBUTION\n",
    "****ROBUST SCALER-----HEAVILY SKEWED"
   ]
  },
  {
   "cell_type": "code",
   "execution_count": null,
   "id": "5937b1d1-2cae-42e0-a2f9-48ef1c7f1cbd",
   "metadata": {},
   "outputs": [],
   "source": [
    "from sklearn.preprocessing import MinMaxScaler, StandardScaler"
   ]
  },
  {
   "cell_type": "code",
   "execution_count": null,
   "id": "401af412-4cd1-4456-bf30-63be7e7e31a1",
   "metadata": {},
   "outputs": [],
   "source": [
    "scaler = StandardScaler()\n",
    "num_cols_to_scale = ['number of adults' ,'number of children','number of weekend nights' ,'number of week nights','lead time',\n",
    "                     'average price','special requests']\n",
    "data[num_cols_to_scale] = scaler.fit_transform(data[num_cols_to_scale])"
   ]
  },
  {
   "cell_type": "code",
   "execution_count": null,
   "id": "d8e9220b-b140-4452-8bc2-11ceb4de7486",
   "metadata": {},
   "outputs": [],
   "source": [
    "data.head()"
   ]
  },
  {
   "cell_type": "markdown",
   "id": "7f5e74fb-6951-4fa1-a01e-1555325f7797",
   "metadata": {},
   "source": []
  },
  {
   "cell_type": "markdown",
   "id": "b7833e44-ab52-4fb0-85e6-10a3bc7ecb4c",
   "metadata": {},
   "source": [
    "Check Class Distribution\n",
    "Assess the balance of the target variable (Attrition) to determine if we need to handle class imbalance."
   ]
  },
  {
   "cell_type": "code",
   "execution_count": null,
   "id": "f35a8ac2-8029-4366-9c25-f9dbd4e4a1a3",
   "metadata": {},
   "outputs": [],
   "source": [
    "# Check class distribution\n",
    "data['booking status'].value_counts()"
   ]
  },
  {
   "cell_type": "code",
   "execution_count": null,
   "id": "5266dd95-b938-48d0-bf7b-b73f7c7cfc72",
   "metadata": {},
   "outputs": [],
   "source": [
    "data['booking status'].value_counts(normalize=True)*100"
   ]
  },
  {
   "cell_type": "code",
   "execution_count": null,
   "id": "51c52265-8ddc-4a4d-af62-4de26cf519a1",
   "metadata": {},
   "outputs": [],
   "source": [
    "sns.countplot(x=data['booking status'])"
   ]
  },
  {
   "cell_type": "markdown",
   "id": "4d378263-6d3a-48f7-959b-f315c521b3ef",
   "metadata": {},
   "source": [
    "\n",
    "\n",
    "###Handling Class Imbalance###\n",
    "Techniques to Address Class Imbalance\n",
    "Resampling:\n",
    "Oversampling the minority class using techniques like SMOTE (Synthetic Minority Oversampling Technique).\n",
    "Undersampling the majority class to balance proportions.\n",
    "Class Weights:\n",
    "Add weights to the classes in the loss function during model training to penalize misclassifications of the minority class.\n",
    "Evaluation Metrics:\n",
    "Use metrics like precision, recall, F1-score, or ROC-AUC instead of just accuracy"
   ]
  },
  {
   "cell_type": "code",
   "execution_count": null,
   "id": "159e4f69-2ead-4b4d-944c-e3acdb1bc567",
   "metadata": {},
   "outputs": [],
   "source": []
  },
  {
   "cell_type": "markdown",
   "id": "d59bcba4-c2f0-42a6-ac90-c74f3c7078c0",
   "metadata": {},
   "source": [
    "***Oversampling with SMOTE***"
   ]
  },
  {
   "cell_type": "code",
   "execution_count": null,
   "id": "39fd0315-752d-4ea9-90c9-61015a3131e3",
   "metadata": {},
   "outputs": [],
   "source": [
    "!pip install imbalanced-learn"
   ]
  },
  {
   "cell_type": "code",
   "execution_count": null,
   "id": "0c14a8a3-4d91-44da-8a76-5f5c7cff8dc7",
   "metadata": {},
   "outputs": [],
   "source": [
    "from imblearn.over_sampling import SMOTE"
   ]
  },
  {
   "cell_type": "code",
   "execution_count": null,
   "id": "45452764-83fc-44a3-a3ca-26190f083c00",
   "metadata": {},
   "outputs": [],
   "source": [
    "# Separate features and target\n",
    "X = data.drop('booking status', axis=1)\n",
    "y = data['booking status']"
   ]
  },
  {
   "cell_type": "code",
   "execution_count": null,
   "id": "70f3d455-8619-400a-a530-663b89be443b",
   "metadata": {},
   "outputs": [],
   "source": [
    "X.head()"
   ]
  },
  {
   "cell_type": "code",
   "execution_count": null,
   "id": "e110efc0-2a2b-4882-bc13-17004b8bcdc0",
   "metadata": {},
   "outputs": [],
   "source": [
    "y.head()"
   ]
  },
  {
   "cell_type": "code",
   "execution_count": null,
   "id": "3bf45be9-3d4e-47ed-8cb9-360975fac2db",
   "metadata": {},
   "outputs": [],
   "source": [
    "# Extract numeric features from the date\n",
    "data['reservation_day'] = data['date of reservation'].dt.day\n",
    "data['reservation_month'] = data['date of reservation'].dt.month\n",
    "data['reservation_weekday'] = data['date of reservation'].dt.weekday  # Monday=0, Sunday=6\n",
    "\n",
    "# Now you can drop the original datetime column for modeling\n",
    "data = data.drop('date of reservation', axis=1)"
   ]
  },
  {
   "cell_type": "code",
   "execution_count": null,
   "id": "4f152998-e010-45e9-a078-3eeff89a110e",
   "metadata": {},
   "outputs": [],
   "source": [
    "data.head()"
   ]
  },
  {
   "cell_type": "code",
   "execution_count": null,
   "id": "7c66df93-7f59-46dd-8241-f2105622a4f3",
   "metadata": {},
   "outputs": [],
   "source": [
    "X = data.drop('booking status', axis=1)\n",
    "y = data['booking status']"
   ]
  },
  {
   "cell_type": "code",
   "execution_count": null,
   "id": "38a4925b-34ad-4e8d-b1e5-4e36d2e3d7cb",
   "metadata": {},
   "outputs": [],
   "source": [
    "smote = SMOTE(random_state=42)\n",
    "X_resampled, y_resampled = smote.fit_resample(X, y)"
   ]
  },
  {
   "cell_type": "code",
   "execution_count": null,
   "id": "66abec36-523c-442d-893f-62cb9a7e99bf",
   "metadata": {},
   "outputs": [],
   "source": [
    "y_resampled.value_counts()"
   ]
  },
  {
   "cell_type": "code",
   "execution_count": null,
   "id": "066c647f-abd6-43f5-946f-3aa3a481ed7f",
   "metadata": {},
   "outputs": [],
   "source": [
    "y_resampled.value_counts(normalize=True)*100"
   ]
  },
  {
   "cell_type": "code",
   "execution_count": null,
   "id": "9bb8bd3d-0025-4149-9bb7-36c682d9fbcb",
   "metadata": {},
   "outputs": [],
   "source": [
    "sns.countplot(x=y_resampled)"
   ]
  },
  {
   "cell_type": "code",
   "execution_count": null,
   "id": "b3bff5b9-222f-4d2d-be58-dcc3d36bdc14",
   "metadata": {},
   "outputs": [],
   "source": [
    "resampled_data = pd.DataFrame(X_resampled,columns= X.columns)"
   ]
  },
  {
   "cell_type": "code",
   "execution_count": null,
   "id": "5f2c2d90-fc81-4c46-a548-159e7eedc7f7",
   "metadata": {},
   "outputs": [],
   "source": [
    "resampled_data.head()"
   ]
  },
  {
   "cell_type": "code",
   "execution_count": null,
   "id": "43471445-e445-4334-a15c-111e7ba1b364",
   "metadata": {},
   "outputs": [],
   "source": [
    "resampled_data['booking status'] = y_resampled"
   ]
  },
  {
   "cell_type": "code",
   "execution_count": null,
   "id": "11a8800a-8ddf-497a-add6-9bfea0661120",
   "metadata": {},
   "outputs": [],
   "source": [
    "resampled_data"
   ]
  },
  {
   "cell_type": "code",
   "execution_count": null,
   "id": "af749c78-29c8-4469-8de5-ae48616532f2",
   "metadata": {},
   "outputs": [],
   "source": []
  },
  {
   "cell_type": "markdown",
   "id": "d5b7ec26-47cb-4f1b-9f13-f383978c29b8",
   "metadata": {},
   "source": [
    "Final Dataset Ready¶\n",
    "At this stage, the dataset is clean and prepared for the next step in the workflow.\n",
    "\n"
   ]
  },
  {
   "cell_type": "code",
   "execution_count": null,
   "id": "980ed1d1-2123-4ac3-ad57-eeb694d8528c",
   "metadata": {},
   "outputs": [],
   "source": [
    "# Save the cleaned dataset for future use\n",
    "resampled_data.to_csv('Cleaned_booking-booking.csv', index=False)"
   ]
  },
  {
   "cell_type": "code",
   "execution_count": null,
   "id": "82a5563d-d2b1-4b3d-a493-a473664a0faa",
   "metadata": {},
   "outputs": [],
   "source": [
    "df= pd.read_csv('Cleaned_booking-booking.csv')"
   ]
  },
  {
   "cell_type": "code",
   "execution_count": null,
   "id": "e96d9e8b-5ece-4166-bcbc-087b7a102605",
   "metadata": {},
   "outputs": [],
   "source": [
    "df['booking status'].value_counts()"
   ]
  },
  {
   "cell_type": "markdown",
   "id": "58520697-ecf8-4faa-8f7b-d2ab84952f5b",
   "metadata": {},
   "source": [
    "**Data Splitting**\n",
    "\n",
    "We’ll split the cleaneddataset into training and testing sets, ensuring the target variable’s distribution is representative in both"
   ]
  },
  {
   "cell_type": "code",
   "execution_count": null,
   "id": "9d97748f-2f92-4c65-8a6e-5a92bece5ea8",
   "metadata": {},
   "outputs": [],
   "source": [
    "from sklearn.model_selection import train_test_split"
   ]
  },
  {
   "cell_type": "code",
   "execution_count": null,
   "id": "6bc57411-6d1d-46f6-bf51-7546105aa968",
   "metadata": {},
   "outputs": [],
   "source": [
    "# Split the dataset (80% training, 20% testing)\n",
    "X_train, X_test, y_train, y_test = train_test_split(\n",
    "    X_resampled, y_resampled, test_size=0.2, random_state=42, stratify=y_resampled  # Stratify to maintain class proportions\n",
    ")"
   ]
  },
  {
   "cell_type": "code",
   "execution_count": null,
   "id": "99834a16-5b83-4c41-9062-0951f0d2df17",
   "metadata": {},
   "outputs": [],
   "source": [
    "print(\"Training set size:\", len(X_train))\n",
    "print(\"Testing set size:\", len(X_test))"
   ]
  },
  {
   "cell_type": "code",
   "execution_count": null,
   "id": "b1f68d5b-468a-4c61-89c5-84389d9f2e06",
   "metadata": {},
   "outputs": [],
   "source": [
    "y_train.value_counts(normalize= True)*100"
   ]
  },
  {
   "cell_type": "code",
   "execution_count": null,
   "id": "ee03108a-661d-416a-81e2-a9fd6c68daae",
   "metadata": {},
   "outputs": [],
   "source": [
    "y_test.value_counts(normalize= True)*100"
   ]
  },
  {
   "cell_type": "code",
   "execution_count": null,
   "id": "21fa94ec-d03a-4fa9-aa70-b59cbc788d0b",
   "metadata": {},
   "outputs": [],
   "source": []
  },
  {
   "cell_type": "markdown",
   "id": "5b307ebe-f476-450d-b854-531c8b9d8ef5",
   "metadata": {},
   "source": [
    "***Model Selection***\n",
    "We’ll train multiple classification models to find the best one for predicting attrition. Start with a baseline and expand to more advanced models."
   ]
  },
  {
   "cell_type": "markdown",
   "id": "f19e50a3-f3f7-4fa5-816d-101c8f7643a5",
   "metadata": {},
   "source": [
    "***1. Train a Baseline Model (Logistic Regression)***"
   ]
  },
  {
   "cell_type": "code",
   "execution_count": null,
   "id": "cdc27415-dca4-4e11-a6f2-a360bb94241e",
   "metadata": {},
   "outputs": [],
   "source": [
    "from sklearn.linear_model import LogisticRegression\n",
    "from sklearn.metrics import classification_report, confusion_matrix"
   ]
  },
  {
   "cell_type": "code",
   "execution_count": null,
   "id": "cfa34a9f-6a12-4015-b31a-ebcd3ec0e668",
   "metadata": {},
   "outputs": [],
   "source": [
    "# Train logistic regression model\n",
    "#MODEL INITIALIZATON \n",
    "logreg = LogisticRegression(random_state=42)\n",
    "# logreg = LogisticRegression(class_weight='balanced', random_state=42)\n",
    "#MODEL TRAINING \n",
    "logreg.fit(X_train, y_train)"
   ]
  },
  {
   "cell_type": "code",
   "execution_count": null,
   "id": "d4324d40-e126-4f01-a9bd-7f640e1a0992",
   "metadata": {},
   "outputs": [],
   "source": [
    "# Predict on the test set\n",
    "y_pred = logreg.predict(X_test)"
   ]
  },
  {
   "cell_type": "code",
   "execution_count": null,
   "id": "d2b6ebae-16c0-4f75-a2d8-91f3844763db",
   "metadata": {},
   "outputs": [],
   "source": [
    "y_pred[:5]"
   ]
  },
  {
   "cell_type": "code",
   "execution_count": null,
   "id": "1a37d83e-3837-4184-b40b-3886c82dab32",
   "metadata": {},
   "outputs": [],
   "source": [
    "print(y_test[:5])"
   ]
  },
  {
   "cell_type": "code",
   "execution_count": null,
   "id": "d9a94f82-2207-4158-a023-e372e8393304",
   "metadata": {},
   "outputs": [],
   "source": [
    "X_test"
   ]
  },
  {
   "cell_type": "code",
   "execution_count": null,
   "id": "560b2022-1839-416f-b508-b4ec380bfd17",
   "metadata": {},
   "outputs": [],
   "source": [
    "# Evaluate performance\n",
    "print(\"Logistic Regression Classification Report:\\n\")\n",
    "print(classification_report(y_test, y_pred))"
   ]
  },
  {
   "cell_type": "code",
   "execution_count": null,
   "id": "526f2cdf-a4b1-4fac-b840-c351d2e4224b",
   "metadata": {},
   "outputs": [],
   "source": [
    "y_test.value_counts()"
   ]
  },
  {
   "cell_type": "code",
   "execution_count": null,
   "id": "e855590f-0799-4399-86c6-048e8e9e2b33",
   "metadata": {},
   "outputs": [],
   "source": [
    "len(y_test)"
   ]
  },
  {
   "cell_type": "code",
   "execution_count": null,
   "id": "6fe81ab9-c930-4e23-9e62-ec55dbb6f773",
   "metadata": {},
   "outputs": [],
   "source": []
  },
  {
   "cell_type": "markdown",
   "id": "45e21ce8-74a4-4194-9894-7a08bd864690",
   "metadata": {},
   "source": [
    "2) # TRAIN ADVANCED MODEL"
   ]
  },
  {
   "cell_type": "code",
   "execution_count": null,
   "id": "cb89afcf-19e9-4157-93a3-130bb3d6a546",
   "metadata": {},
   "outputs": [],
   "source": [
    "from sklearn.ensemble import RandomForestClassifier"
   ]
  },
  {
   "cell_type": "code",
   "execution_count": null,
   "id": "050aec6f-e1ee-4a26-9912-2e38a65e97a2",
   "metadata": {},
   "outputs": [],
   "source": [
    "# Train random forest model\n",
    "# rf = RandomForestClassifier(class_weight={0:1, 1:3}, random_state=42, n_estimators=100)\n",
    "rf_model = RandomForestClassifier(class_weight='balanced', random_state=42,n_estimators=100)\n",
    "rf_model.fit(X_train, y_train)\n",
    "# Predict on the test set\n",
    "y_pred_rf = rf_model.predict(X_test)\n",
    "# Evaluate performance\n",
    "print(\"Random Forest Classification Report:\\n\")\n",
    "print(classification_report(y_test, y_pred_rf))"
   ]
  },
  {
   "cell_type": "code",
   "execution_count": null,
   "id": "3d998d3b-7bb9-472d-8004-71736d2bee02",
   "metadata": {},
   "outputs": [],
   "source": []
  },
  {
   "cell_type": "markdown",
   "id": "4ec31021-2eea-4472-b10c-024b450032e7",
   "metadata": {},
   "source": [
    "# 3 Trying multiple classification models"
   ]
  },
  {
   "cell_type": "code",
   "execution_count": null,
   "id": "20aada6f-61ee-45e3-9221-0313d34a80db",
   "metadata": {},
   "outputs": [],
   "source": [
    "from sklearn.linear_model import LogisticRegression\n",
    "from sklearn.ensemble import RandomForestClassifier, GradientBoostingClassifier, AdaBoostClassifier\n",
    "from sklearn.svm import SVC\n",
    "from sklearn.neighbors import KNeighborsClassifier\n",
    "from sklearn.tree import DecisionTreeClassifier"
   ]
  },
  {
   "cell_type": "code",
   "execution_count": null,
   "id": "d76da821-6799-47a2-ae4f-c34a4a806f45",
   "metadata": {},
   "outputs": [],
   "source": [
    " !pip install xgboost\n"
   ]
  },
  {
   "cell_type": "code",
   "execution_count": null,
   "id": "0cb29591-9620-482a-8290-bf83abfcdcf1",
   "metadata": {},
   "outputs": [],
   "source": [
    "from xgboost import XGBClassifier"
   ]
  },
  {
   "cell_type": "code",
   "execution_count": null,
   "id": "c8742b02-c3c9-4370-8495-10400bda18c2",
   "metadata": {},
   "outputs": [],
   "source": [
    "# Define the models\n",
    "# class_weights={0:1, 1:3}\n",
    "class_weights='balanced'\n",
    "models = {\n",
    "    'Logistic Regression': LogisticRegression(random_state=42, class_weight=class_weights),\n",
    "    'Random Forest': RandomForestClassifier(random_state=42, class_weight=class_weights),\n",
    "    'Support Vector Machine': SVC(random_state=42, class_weight=class_weights),\n",
    "    'k-Nearest Neighbors': KNeighborsClassifier(),\n",
    "    'Decision Tree': DecisionTreeClassifier(random_state=42, class_weight=class_weights),\n",
    "    'Gradient Boosting': GradientBoostingClassifier(random_state=42),\n",
    "    'AdaBoost': AdaBoostClassifier(random_state=42, algorithm=\"SAMME\"),\n",
    "    'XGBoost': XGBClassifier(eval_metric='mlogloss')\n",
    "}"
   ]
  },
  {
   "cell_type": "code",
   "execution_count": 87,
   "id": "a25bca5d-b31b-4712-ab2b-ea4e3e734291",
   "metadata": {},
   "outputs": [
    {
     "name": "stdout",
     "output_type": "stream",
     "text": [
      "Training Logistic Regression...\n",
      "Logistic Regression Classification Report:\n",
      "              precision    recall  f1-score   support\n",
      "\n",
      "           0       0.76      0.78      0.77      3707\n",
      "           1       0.77      0.76      0.77      3707\n",
      "\n",
      "    accuracy                           0.77      7414\n",
      "   macro avg       0.77      0.77      0.77      7414\n",
      "weighted avg       0.77      0.77      0.77      7414\n",
      "\n"
     ]
    },
    {
     "data": {
      "image/png": "[encoded data removed]",
      "text/plain": [
       "<Figure size 640x480 with 2 Axes>"
      ]
     },
     "metadata": {},
     "output_type": "display_data"
    },
    {
     "name": "stdout",
     "output_type": "stream",
     "text": [
      "Training Random Forest...\n",
      "Random Forest Classification Report:\n",
      "              precision    recall  f1-score   support\n",
      "\n",
      "           0       0.90      0.89      0.89      3707\n",
      "           1       0.89      0.90      0.89      3707\n",
      "\n",
      "    accuracy                           0.89      7414\n",
      "   macro avg       0.89      0.89      0.89      7414\n",
      "weighted avg       0.89      0.89      0.89      7414\n",
      "\n"
     ]
    },
    {
     "data": {
      "image/png": "[encoded data removed]",
      "text/plain": [
       "<Figure size 640x480 with 2 Axes>"
      ]
     },
     "metadata": {},
     "output_type": "display_data"
    },
    {
     "name": "stdout",
     "output_type": "stream",
     "text": [
      "Training Support Vector Machine...\n",
      "Support Vector Machine Classification Report:\n",
      "              precision    recall  f1-score   support\n",
      "\n",
      "           0       0.76      0.80      0.78      3707\n",
      "           1       0.79      0.75      0.77      3707\n",
      "\n",
      "    accuracy                           0.77      7414\n",
      "   macro avg       0.77      0.77      0.77      7414\n",
      "weighted avg       0.77      0.77      0.77      7414\n",
      "\n"
     ]
    },
    {
     "data": {
      "image/png": "[encoded data removed]",
      "text/plain": [
       "<Figure size 640x480 with 2 Axes>"
      ]
     },
     "metadata": {},
     "output_type": "display_data"
    },
    {
     "name": "stdout",
     "output_type": "stream",
     "text": [
      "Training k-Nearest Neighbors...\n",
      "k-Nearest Neighbors Classification Report:\n",
      "              precision    recall  f1-score   support\n",
      "\n",
      "           0       0.75      0.89      0.81      3707\n",
      "           1       0.87      0.70      0.77      3707\n",
      "\n",
      "    accuracy                           0.80      7414\n",
      "   macro avg       0.81      0.80      0.79      7414\n",
      "weighted avg       0.81      0.80      0.79      7414\n",
      "\n"
     ]
    },
    {
     "data": {
      "image/png": "[encoded data removed]",
      "text/plain": [
       "<Figure size 640x480 with 2 Axes>"
      ]
     },
     "metadata": {},
     "output_type": "display_data"
    },
    {
     "name": "stdout",
     "output_type": "stream",
     "text": [
      "Training Decision Tree...\n",
      "Decision Tree Classification Report:\n",
      "              precision    recall  f1-score   support\n",
      "\n",
      "           0       0.83      0.85      0.84      3707\n",
      "           1       0.84      0.83      0.84      3707\n",
      "\n",
      "    accuracy                           0.84      7414\n",
      "   macro avg       0.84      0.84      0.84      7414\n",
      "weighted avg       0.84      0.84      0.84      7414\n",
      "\n"
     ]
    },
    {
     "data": {
      "image/png": "[encoded data removed]",
      "text/plain": [
       "<Figure size 640x480 with 2 Axes>"
      ]
     },
     "metadata": {},
     "output_type": "display_data"
    },
    {
     "name": "stdout",
     "output_type": "stream",
     "text": [
      "Training Gradient Boosting...\n",
      "Gradient Boosting Classification Report:\n",
      "              precision    recall  f1-score   support\n",
      "\n",
      "           0       0.87      0.84      0.85      3707\n",
      "           1       0.84      0.87      0.86      3707\n",
      "\n",
      "    accuracy                           0.86      7414\n",
      "   macro avg       0.86      0.86      0.86      7414\n",
      "weighted avg       0.86      0.86      0.86      7414\n",
      "\n"
     ]
    },
    {
     "data": {
      "image/png": "[encoded data removed]",
      "text/plain": [
       "<Figure size 640x480 with 2 Axes>"
      ]
     },
     "metadata": {},
     "output_type": "display_data"
    },
    {
     "name": "stdout",
     "output_type": "stream",
     "text": [
      "Training AdaBoost...\n",
      "AdaBoost Classification Report:\n",
      "              precision    recall  f1-score   support\n",
      "\n",
      "           0       0.81      0.80      0.80      3707\n",
      "           1       0.80      0.81      0.80      3707\n",
      "\n",
      "    accuracy                           0.80      7414\n",
      "   macro avg       0.80      0.80      0.80      7414\n",
      "weighted avg       0.80      0.80      0.80      7414\n",
      "\n"
     ]
    },
    {
     "data": {
      "image/png": "[encoded data removed]",
      "text/plain": [
       "<Figure size 640x480 with 2 Axes>"
      ]
     },
     "metadata": {},
     "output_type": "display_data"
    },
    {
     "name": "stdout",
     "output_type": "stream",
     "text": [
      "Training XGBoost...\n",
      "XGBoost Classification Report:\n",
      "              precision    recall  f1-score   support\n",
      "\n",
      "           0       0.89      0.87      0.88      3707\n",
      "           1       0.88      0.89      0.88      3707\n",
      "\n",
      "    accuracy                           0.88      7414\n",
      "   macro avg       0.88      0.88      0.88      7414\n",
      "weighted avg       0.88      0.88      0.88      7414\n",
      "\n"
     ]
    },
    {
     "data": {
      "image/png": "[encoded data removed]",
      "text/plain": [
       "<Figure size 640x480 with 2 Axes>"
      ]
     },
     "metadata": {},
     "output_type": "display_data"
    }
   ],
   "source": [
    "from sklearn.metrics import classification_report, accuracy_score\n",
    "\n",
    "results = {}\n",
    "\n",
    "for model_name, model in models.items():\n",
    "    print(f\"Training {model_name}...\")\n",
    "    # Train the model\n",
    "    model.fit(X_train, y_train)\n",
    "    \n",
    "    # Make predictions\n",
    "    y_pred = model.predict(X_test)\n",
    "    \n",
    "    # Evaluate the model\n",
    "    accuracy = accuracy_score(y_test, y_pred)\n",
    "    report = classification_report(y_test, y_pred)\n",
    "    matrix = confusion_matrix(y_test, y_pred)\n",
    "    \n",
    "    # Store results\n",
    "    results[model_name] = {\n",
    "        'accuracy': accuracy,\n",
    "        'classification_report': report,\n",
    "        'confusion_matrix': matrix\n",
    "    }\n",
    "    # print(f\"{model_name} Accuracy: {accuracy:.4f}\")\n",
    "    print(f\"{model_name} Classification Report:\\n{report}\")\n",
    "\n",
    "    sns.heatmap(matrix, annot=True, fmt=\"g\")\n",
    "    plt.show()"
   ]
  },
  {
   "cell_type": "code",
   "execution_count": null,
   "id": "8e389810-6762-47d2-8058-bae7d421f8d6",
   "metadata": {},
   "outputs": [],
   "source": []
  },
  {
   "cell_type": "markdown",
   "id": "f61ddc05-67cf-4559-b8d1-6147e84b58c2",
   "metadata": {},
   "source": [
    "## Hyperparameter Tuning\n",
    "We’ll use grid search to optimize hyperparameters for the Random Forest model."
   ]
  },
  {
   "cell_type": "code",
   "execution_count": 88,
   "id": "bf43edf9-9afd-4d73-ab10-be109c2439b1",
   "metadata": {},
   "outputs": [],
   "source": [
    "from sklearn.model_selection import GridSearchCV"
   ]
  },
  {
   "cell_type": "code",
   "execution_count": 89,
   "id": "a46f0938-bad1-469b-ac13-8bcd0d097113",
   "metadata": {},
   "outputs": [],
   "source": [
    "# Define parameter grid\n",
    "param_grid = {\n",
    "    'n_estimators': [50, 100, 200],\n",
    "    'max_depth': [None, 10, 20, 30],\n",
    "    'min_samples_split': [2, 5, 10],\n",
    "    'min_samples_leaf': [1, 2, 4]\n",
    "}"
   ]
  },
  {
   "cell_type": "code",
   "execution_count": 90,
   "id": "f830babc-474f-4323-855b-b90dfdfa8edc",
   "metadata": {},
   "outputs": [],
   "source": [
    "grid_search = GridSearchCV(\n",
    "    RandomForestClassifier(class_weight='balanced', random_state=42),\n",
    "    param_grid, cv=5, scoring='f1', n_jobs=-1\n",
    ")"
   ]
  },
  {
   "cell_type": "code",
   "execution_count": 91,
   "id": "d5f46ca4-9a3d-4d93-ae44-682b48df6b2a",
   "metadata": {},
   "outputs": [
    {
     "data": {
      "text/html": [
       "<style>#sk-container-id-2 {\n",
       "  /* Definition of color scheme common for light and dark mode */\n",
       "  --sklearn-color-text: black;\n",
       "  --sklearn-color-line: gray;\n",
       "  /* Definition of color scheme for unfitted estimators */\n",
       "  --sklearn-color-unfitted-level-0: #fff5e6;\n",
       "  --sklearn-color-unfitted-level-1: #f6e4d2;\n",
       "  --sklearn-color-unfitted-level-2: #ffe0b3;\n",
       "  --sklearn-color-unfitted-level-3: chocolate;\n",
       "  /* Definition of color scheme for fitted estimators */\n",
       "  --sklearn-color-fitted-level-0: #f0f8ff;\n",
       "  --sklearn-color-fitted-level-1: #d4ebff;\n",
       "  --sklearn-color-fitted-level-2: #b3dbfd;\n",
       "  --sklearn-color-fitted-level-3: cornflowerblue;\n",
       "\n",
       "  /* Specific color for light theme */\n",
       "  --sklearn-color-text-on-default-background: var(--sg-text-color, var(--theme-code-foreground, var(--jp-content-font-color1, black)));\n",
       "  --sklearn-color-background: var(--sg-background-color, var(--theme-background, var(--jp-layout-color0, white)));\n",
       "  --sklearn-color-border-box: var(--sg-text-color, var(--theme-code-foreground, var(--jp-content-font-color1, black)));\n",
       "  --sklearn-color-icon: #696969;\n",
       "\n",
       "  @media (prefers-color-scheme: dark) {\n",
       "    /* Redefinition of color scheme for dark theme */\n",
       "    --sklearn-color-text-on-default-background: var(--sg-text-color, var(--theme-code-foreground, var(--jp-content-font-color1, white)));\n",
       "    --sklearn-color-background: var(--sg-background-color, var(--theme-background, var(--jp-layout-color0, #111)));\n",
       "    --sklearn-color-border-box: var(--sg-text-color, var(--theme-code-foreground, var(--jp-content-font-color1, white)));\n",
       "    --sklearn-color-icon: #878787;\n",
       "  }\n",
       "}\n",
       "\n",
       "#sk-container-id-2 {\n",
       "  color: var(--sklearn-color-text);\n",
       "}\n",
       "\n",
       "#sk-container-id-2 pre {\n",
       "  padding: 0;\n",
       "}\n",
       "\n",
       "#sk-container-id-2 input.sk-hidden--visually {\n",
       "  border: 0;\n",
       "  clip: rect(1px 1px 1px 1px);\n",
       "  clip: rect(1px, 1px, 1px, 1px);\n",
       "  height: 1px;\n",
       "  margin: -1px;\n",
       "  overflow: hidden;\n",
       "  padding: 0;\n",
       "  position: absolute;\n",
       "  width: 1px;\n",
       "}\n",
       "\n",
       "#sk-container-id-2 div.sk-dashed-wrapped {\n",
       "  border: 1px dashed var(--sklearn-color-line);\n",
       "  margin: 0 0.4em 0.5em 0.4em;\n",
       "  box-sizing: border-box;\n",
       "  padding-bottom: 0.4em;\n",
       "  background-color: var(--sklearn-color-background);\n",
       "}\n",
       "\n",
       "#sk-container-id-2 div.sk-container {\n",
       "  /* jupyter's `normalize.less` sets `[hidden] { display: none; }`\n",
       "     but bootstrap.min.css set `[hidden] { display: none !important; }`\n",
       "     so we also need the `!important` here to be able to override the\n",
       "     default hidden behavior on the sphinx rendered scikit-learn.org.\n",
       "     See: https://github.com/scikit-learn/scikit-learn/issues/21755 */\n",
       "  display: inline-block !important;\n",
       "  position: relative;\n",
       "}\n",
       "\n",
       "#sk-container-id-2 div.sk-text-repr-fallback {\n",
       "  display: none;\n",
       "}\n",
       "\n",
       "div.sk-parallel-item,\n",
       "div.sk-serial,\n",
       "div.sk-item {\n",
       "  /* draw centered vertical line to link estimators */\n",
       "  background-image: linear-gradient(var(--sklearn-color-text-on-default-background), var(--sklearn-color-text-on-default-background));\n",
       "  background-size: 2px 100%;\n",
       "  background-repeat: no-repeat;\n",
       "  background-position: center center;\n",
       "}\n",
       "\n",
       "/* Parallel-specific style estimator block */\n",
       "\n",
       "#sk-container-id-2 div.sk-parallel-item::after {\n",
       "  content: \"\";\n",
       "  width: 100%;\n",
       "  border-bottom: 2px solid var(--sklearn-color-text-on-default-background);\n",
       "  flex-grow: 1;\n",
       "}\n",
       "\n",
       "#sk-container-id-2 div.sk-parallel {\n",
       "  display: flex;\n",
       "  align-items: stretch;\n",
       "  justify-content: center;\n",
       "  background-color: var(--sklearn-color-background);\n",
       "  position: relative;\n",
       "}\n",
       "\n",
       "#sk-container-id-2 div.sk-parallel-item {\n",
       "  display: flex;\n",
       "  flex-direction: column;\n",
       "}\n",
       "\n",
       "#sk-container-id-2 div.sk-parallel-item:first-child::after {\n",
       "  align-self: flex-end;\n",
       "  width: 50%;\n",
       "}\n",
       "\n",
       "#sk-container-id-2 div.sk-parallel-item:last-child::after {\n",
       "  align-self: flex-start;\n",
       "  width: 50%;\n",
       "}\n",
       "\n",
       "#sk-container-id-2 div.sk-parallel-item:only-child::after {\n",
       "  width: 0;\n",
       "}\n",
       "\n",
       "/* Serial-specific style estimator block */\n",
       "\n",
       "#sk-container-id-2 div.sk-serial {\n",
       "  display: flex;\n",
       "  flex-direction: column;\n",
       "  align-items: center;\n",
       "  background-color: var(--sklearn-color-background);\n",
       "  padding-right: 1em;\n",
       "  padding-left: 1em;\n",
       "}\n",
       "\n",
       "\n",
       "/* Toggleable style: style used for estimator/Pipeline/ColumnTransformer box that is\n",
       "clickable and can be expanded/collapsed.\n",
       "- Pipeline and ColumnTransformer use this feature and define the default style\n",
       "- Estimators will overwrite some part of the style using the `sk-estimator` class\n",
       "*/\n",
       "\n",
       "/* Pipeline and ColumnTransformer style (default) */\n",
       "\n",
       "#sk-container-id-2 div.sk-toggleable {\n",
       "  /* Default theme specific background. It is overwritten whether we have a\n",
       "  specific estimator or a Pipeline/ColumnTransformer */\n",
       "  background-color: var(--sklearn-color-background);\n",
       "}\n",
       "\n",
       "/* Toggleable label */\n",
       "#sk-container-id-2 label.sk-toggleable__label {\n",
       "  cursor: pointer;\n",
       "  display: block;\n",
       "  width: 100%;\n",
       "  margin-bottom: 0;\n",
       "  padding: 0.5em;\n",
       "  box-sizing: border-box;\n",
       "  text-align: center;\n",
       "}\n",
       "\n",
       "#sk-container-id-2 label.sk-toggleable__label-arrow:before {\n",
       "  /* Arrow on the left of the label */\n",
       "  content: \"▸\";\n",
       "  float: left;\n",
       "  margin-right: 0.25em;\n",
       "  color: var(--sklearn-color-icon);\n",
       "}\n",
       "\n",
       "#sk-container-id-2 label.sk-toggleable__label-arrow:hover:before {\n",
       "  color: var(--sklearn-color-text);\n",
       "}\n",
       "\n",
       "/* Toggleable content - dropdown */\n",
       "\n",
       "#sk-container-id-2 div.sk-toggleable__content {\n",
       "  max-height: 0;\n",
       "  max-width: 0;\n",
       "  overflow: hidden;\n",
       "  text-align: left;\n",
       "  /* unfitted */\n",
       "  background-color: var(--sklearn-color-unfitted-level-0);\n",
       "}\n",
       "\n",
       "#sk-container-id-2 div.sk-toggleable__content.fitted {\n",
       "  /* fitted */\n",
       "  background-color: var(--sklearn-color-fitted-level-0);\n",
       "}\n",
       "\n",
       "#sk-container-id-2 div.sk-toggleable__content pre {\n",
       "  margin: 0.2em;\n",
       "  border-radius: 0.25em;\n",
       "  color: var(--sklearn-color-text);\n",
       "  /* unfitted */\n",
       "  background-color: var(--sklearn-color-unfitted-level-0);\n",
       "}\n",
       "\n",
       "#sk-container-id-2 div.sk-toggleable__content.fitted pre {\n",
       "  /* unfitted */\n",
       "  background-color: var(--sklearn-color-fitted-level-0);\n",
       "}\n",
       "\n",
       "#sk-container-id-2 input.sk-toggleable__control:checked~div.sk-toggleable__content {\n",
       "  /* Expand drop-down */\n",
       "  max-height: 200px;\n",
       "  max-width: 100%;\n",
       "  overflow: auto;\n",
       "}\n",
       "\n",
       "#sk-container-id-2 input.sk-toggleable__control:checked~label.sk-toggleable__label-arrow:before {\n",
       "  content: \"▾\";\n",
       "}\n",
       "\n",
       "/* Pipeline/ColumnTransformer-specific style */\n",
       "\n",
       "#sk-container-id-2 div.sk-label input.sk-toggleable__control:checked~label.sk-toggleable__label {\n",
       "  color: var(--sklearn-color-text);\n",
       "  background-color: var(--sklearn-color-unfitted-level-2);\n",
       "}\n",
       "\n",
       "#sk-container-id-2 div.sk-label.fitted input.sk-toggleable__control:checked~label.sk-toggleable__label {\n",
       "  background-color: var(--sklearn-color-fitted-level-2);\n",
       "}\n",
       "\n",
       "/* Estimator-specific style */\n",
       "\n",
       "/* Colorize estimator box */\n",
       "#sk-container-id-2 div.sk-estimator input.sk-toggleable__control:checked~label.sk-toggleable__label {\n",
       "  /* unfitted */\n",
       "  background-color: var(--sklearn-color-unfitted-level-2);\n",
       "}\n",
       "\n",
       "#sk-container-id-2 div.sk-estimator.fitted input.sk-toggleable__control:checked~label.sk-toggleable__label {\n",
       "  /* fitted */\n",
       "  background-color: var(--sklearn-color-fitted-level-2);\n",
       "}\n",
       "\n",
       "#sk-container-id-2 div.sk-label label.sk-toggleable__label,\n",
       "#sk-container-id-2 div.sk-label label {\n",
       "  /* The background is the default theme color */\n",
       "  color: var(--sklearn-color-text-on-default-background);\n",
       "}\n",
       "\n",
       "/* On hover, darken the color of the background */\n",
       "#sk-container-id-2 div.sk-label:hover label.sk-toggleable__label {\n",
       "  color: var(--sklearn-color-text);\n",
       "  background-color: var(--sklearn-color-unfitted-level-2);\n",
       "}\n",
       "\n",
       "/* Label box, darken color on hover, fitted */\n",
       "#sk-container-id-2 div.sk-label.fitted:hover label.sk-toggleable__label.fitted {\n",
       "  color: var(--sklearn-color-text);\n",
       "  background-color: var(--sklearn-color-fitted-level-2);\n",
       "}\n",
       "\n",
       "/* Estimator label */\n",
       "\n",
       "#sk-container-id-2 div.sk-label label {\n",
       "  font-family: monospace;\n",
       "  font-weight: bold;\n",
       "  display: inline-block;\n",
       "  line-height: 1.2em;\n",
       "}\n",
       "\n",
       "#sk-container-id-2 div.sk-label-container {\n",
       "  text-align: center;\n",
       "}\n",
       "\n",
       "/* Estimator-specific */\n",
       "#sk-container-id-2 div.sk-estimator {\n",
       "  font-family: monospace;\n",
       "  border: 1px dotted var(--sklearn-color-border-box);\n",
       "  border-radius: 0.25em;\n",
       "  box-sizing: border-box;\n",
       "  margin-bottom: 0.5em;\n",
       "  /* unfitted */\n",
       "  background-color: var(--sklearn-color-unfitted-level-0);\n",
       "}\n",
       "\n",
       "#sk-container-id-2 div.sk-estimator.fitted {\n",
       "  /* fitted */\n",
       "  background-color: var(--sklearn-color-fitted-level-0);\n",
       "}\n",
       "\n",
       "/* on hover */\n",
       "#sk-container-id-2 div.sk-estimator:hover {\n",
       "  /* unfitted */\n",
       "  background-color: var(--sklearn-color-unfitted-level-2);\n",
       "}\n",
       "\n",
       "#sk-container-id-2 div.sk-estimator.fitted:hover {\n",
       "  /* fitted */\n",
       "  background-color: var(--sklearn-color-fitted-level-2);\n",
       "}\n",
       "\n",
       "/* Specification for estimator info (e.g. \"i\" and \"?\") */\n",
       "\n",
       "/* Common style for \"i\" and \"?\" */\n",
       "\n",
       ".sk-estimator-doc-link,\n",
       "a:link.sk-estimator-doc-link,\n",
       "a:visited.sk-estimator-doc-link {\n",
       "  float: right;\n",
       "  font-size: smaller;\n",
       "  line-height: 1em;\n",
       "  font-family: monospace;\n",
       "  background-color: var(--sklearn-color-background);\n",
       "  border-radius: 1em;\n",
       "  height: 1em;\n",
       "  width: 1em;\n",
       "  text-decoration: none !important;\n",
       "  margin-left: 1ex;\n",
       "  /* unfitted */\n",
       "  border: var(--sklearn-color-unfitted-level-1) 1pt solid;\n",
       "  color: var(--sklearn-color-unfitted-level-1);\n",
       "}\n",
       "\n",
       ".sk-estimator-doc-link.fitted,\n",
       "a:link.sk-estimator-doc-link.fitted,\n",
       "a:visited.sk-estimator-doc-link.fitted {\n",
       "  /* fitted */\n",
       "  border: var(--sklearn-color-fitted-level-1) 1pt solid;\n",
       "  color: var(--sklearn-color-fitted-level-1);\n",
       "}\n",
       "\n",
       "/* On hover */\n",
       "div.sk-estimator:hover .sk-estimator-doc-link:hover,\n",
       ".sk-estimator-doc-link:hover,\n",
       "div.sk-label-container:hover .sk-estimator-doc-link:hover,\n",
       ".sk-estimator-doc-link:hover {\n",
       "  /* unfitted */\n",
       "  background-color: var(--sklearn-color-unfitted-level-3);\n",
       "  color: var(--sklearn-color-background);\n",
       "  text-decoration: none;\n",
       "}\n",
       "\n",
       "div.sk-estimator.fitted:hover .sk-estimator-doc-link.fitted:hover,\n",
       ".sk-estimator-doc-link.fitted:hover,\n",
       "div.sk-label-container:hover .sk-estimator-doc-link.fitted:hover,\n",
       ".sk-estimator-doc-link.fitted:hover {\n",
       "  /* fitted */\n",
       "  background-color: var(--sklearn-color-fitted-level-3);\n",
       "  color: var(--sklearn-color-background);\n",
       "  text-decoration: none;\n",
       "}\n",
       "\n",
       "/* Span, style for the box shown on hovering the info icon */\n",
       ".sk-estimator-doc-link span {\n",
       "  display: none;\n",
       "  z-index: 9999;\n",
       "  position: relative;\n",
       "  font-weight: normal;\n",
       "  right: .2ex;\n",
       "  padding: .5ex;\n",
       "  margin: .5ex;\n",
       "  width: min-content;\n",
       "  min-width: 20ex;\n",
       "  max-width: 50ex;\n",
       "  color: var(--sklearn-color-text);\n",
       "  box-shadow: 2pt 2pt 4pt #999;\n",
       "  /* unfitted */\n",
       "  background: var(--sklearn-color-unfitted-level-0);\n",
       "  border: .5pt solid var(--sklearn-color-unfitted-level-3);\n",
       "}\n",
       "\n",
       ".sk-estimator-doc-link.fitted span {\n",
       "  /* fitted */\n",
       "  background: var(--sklearn-color-fitted-level-0);\n",
       "  border: var(--sklearn-color-fitted-level-3);\n",
       "}\n",
       "\n",
       ".sk-estimator-doc-link:hover span {\n",
       "  display: block;\n",
       "}\n",
       "\n",
       "/* \"?\"-specific style due to the `<a>` HTML tag */\n",
       "\n",
       "#sk-container-id-2 a.estimator_doc_link {\n",
       "  float: right;\n",
       "  font-size: 1rem;\n",
       "  line-height: 1em;\n",
       "  font-family: monospace;\n",
       "  background-color: var(--sklearn-color-background);\n",
       "  border-radius: 1rem;\n",
       "  height: 1rem;\n",
       "  width: 1rem;\n",
       "  text-decoration: none;\n",
       "  /* unfitted */\n",
       "  color: var(--sklearn-color-unfitted-level-1);\n",
       "  border: var(--sklearn-color-unfitted-level-1) 1pt solid;\n",
       "}\n",
       "\n",
       "#sk-container-id-2 a.estimator_doc_link.fitted {\n",
       "  /* fitted */\n",
       "  border: var(--sklearn-color-fitted-level-1) 1pt solid;\n",
       "  color: var(--sklearn-color-fitted-level-1);\n",
       "}\n",
       "\n",
       "/* On hover */\n",
       "#sk-container-id-2 a.estimator_doc_link:hover {\n",
       "  /* unfitted */\n",
       "  background-color: var(--sklearn-color-unfitted-level-3);\n",
       "  color: var(--sklearn-color-background);\n",
       "  text-decoration: none;\n",
       "}\n",
       "\n",
       "#sk-container-id-2 a.estimator_doc_link.fitted:hover {\n",
       "  /* fitted */\n",
       "  background-color: var(--sklearn-color-fitted-level-3);\n",
       "}\n",
       "</style><div id=\"sk-container-id-2\" class=\"sk-top-container\"><div class=\"sk-text-repr-fallback\"><pre>GridSearchCV(cv=5,\n",
       "             estimator=RandomForestClassifier(class_weight=&#x27;balanced&#x27;,\n",
       "                                              random_state=42),\n",
       "             n_jobs=-1,\n",
       "             param_grid={&#x27;max_depth&#x27;: [None, 10, 20, 30],\n",
       "                         &#x27;min_samples_leaf&#x27;: [1, 2, 4],\n",
       "                         &#x27;min_samples_split&#x27;: [2, 5, 10],\n",
       "                         &#x27;n_estimators&#x27;: [50, 100, 200]},\n",
       "             scoring=&#x27;f1&#x27;)</pre><b>In a Jupyter environment, please rerun this cell to show the HTML representation or trust the notebook. <br />On GitHub, the HTML representation is unable to render, please try loading this page with nbviewer.org.</b></div><div class=\"sk-container\" hidden><div class=\"sk-item sk-dashed-wrapped\"><div class=\"sk-label-container\"><div class=\"sk-label fitted sk-toggleable\"><input class=\"sk-toggleable__control sk-hidden--visually\" id=\"sk-estimator-id-2\" type=\"checkbox\" ><label for=\"sk-estimator-id-2\" class=\"sk-toggleable__label fitted sk-toggleable__label-arrow fitted\">&nbsp;&nbsp;GridSearchCV<a class=\"sk-estimator-doc-link fitted\" rel=\"noreferrer\" target=\"_blank\" href=\"https://scikit-learn.org/1.5/modules/generated/sklearn.model_selection.GridSearchCV.html\">?<span>Documentation for GridSearchCV</span></a><span class=\"sk-estimator-doc-link fitted\">i<span>Fitted</span></span></label><div class=\"sk-toggleable__content fitted\"><pre>GridSearchCV(cv=5,\n",
       "             estimator=RandomForestClassifier(class_weight=&#x27;balanced&#x27;,\n",
       "                                              random_state=42),\n",
       "             n_jobs=-1,\n",
       "             param_grid={&#x27;max_depth&#x27;: [None, 10, 20, 30],\n",
       "                         &#x27;min_samples_leaf&#x27;: [1, 2, 4],\n",
       "                         &#x27;min_samples_split&#x27;: [2, 5, 10],\n",
       "                         &#x27;n_estimators&#x27;: [50, 100, 200]},\n",
       "             scoring=&#x27;f1&#x27;)</pre></div> </div></div><div class=\"sk-parallel\"><div class=\"sk-parallel-item\"><div class=\"sk-item\"><div class=\"sk-label-container\"><div class=\"sk-label fitted sk-toggleable\"><input class=\"sk-toggleable__control sk-hidden--visually\" id=\"sk-estimator-id-3\" type=\"checkbox\" ><label for=\"sk-estimator-id-3\" class=\"sk-toggleable__label fitted sk-toggleable__label-arrow fitted\">best_estimator_: RandomForestClassifier</label><div class=\"sk-toggleable__content fitted\"><pre>RandomForestClassifier(class_weight=&#x27;balanced&#x27;, max_depth=30, n_estimators=200,\n",
       "                       random_state=42)</pre></div> </div></div><div class=\"sk-serial\"><div class=\"sk-item\"><div class=\"sk-estimator fitted sk-toggleable\"><input class=\"sk-toggleable__control sk-hidden--visually\" id=\"sk-estimator-id-4\" type=\"checkbox\" ><label for=\"sk-estimator-id-4\" class=\"sk-toggleable__label fitted sk-toggleable__label-arrow fitted\">&nbsp;RandomForestClassifier<a class=\"sk-estimator-doc-link fitted\" rel=\"noreferrer\" target=\"_blank\" href=\"https://scikit-learn.org/1.5/modules/generated/sklearn.ensemble.RandomForestClassifier.html\">?<span>Documentation for RandomForestClassifier</span></a></label><div class=\"sk-toggleable__content fitted\"><pre>RandomForestClassifier(class_weight=&#x27;balanced&#x27;, max_depth=30, n_estimators=200,\n",
       "                       random_state=42)</pre></div> </div></div></div></div></div></div></div></div></div>"
      ],
      "text/plain": [
       "GridSearchCV(cv=5,\n",
       "             estimator=RandomForestClassifier(class_weight='balanced',\n",
       "                                              random_state=42),\n",
       "             n_jobs=-1,\n",
       "             param_grid={'max_depth': [None, 10, 20, 30],\n",
       "                         'min_samples_leaf': [1, 2, 4],\n",
       "                         'min_samples_split': [2, 5, 10],\n",
       "                         'n_estimators': [50, 100, 200]},\n",
       "             scoring='f1')"
      ]
     },
     "execution_count": 91,
     "metadata": {},
     "output_type": "execute_result"
    }
   ],
   "source": [
    "grid_search.fit(X_train, y_train)"
   ]
  },
  {
   "cell_type": "code",
   "execution_count": 92,
   "id": "0cd862e0-f333-44f5-9411-846d3269adcd",
   "metadata": {},
   "outputs": [
    {
     "name": "stdout",
     "output_type": "stream",
     "text": [
      "Best Hyperparameters: {'max_depth': 30, 'min_samples_leaf': 1, 'min_samples_split': 2, 'n_estimators': 200}\n"
     ]
    }
   ],
   "source": [
    "# Best parameters\n",
    "print(\"Best Hyperparameters:\", grid_search.best_params_)"
   ]
  },
  {
   "cell_type": "code",
   "execution_count": null,
   "id": "9d3d202c-fde1-4e26-9717-6e023e67e87a",
   "metadata": {},
   "outputs": [],
   "source": []
  },
  {
   "cell_type": "code",
   "execution_count": 93,
   "id": "d3f3bfaa-ff4d-4cf3-8ebc-72742207a1ab",
   "metadata": {},
   "outputs": [],
   "source": [
    "# Train best model\n",
    "best_rf = grid_search.best_estimator_"
   ]
  },
  {
   "cell_type": "code",
   "execution_count": 94,
   "id": "491b0f81-019a-4bea-9802-62d0b7b25048",
   "metadata": {},
   "outputs": [],
   "source": [
    "# Predict on the test set\n",
    "y_pred_best_rf = best_rf.predict(X_test)"
   ]
  },
  {
   "cell_type": "code",
   "execution_count": 95,
   "id": "92031584-03b2-4614-a31e-b17bbafb0072",
   "metadata": {},
   "outputs": [
    {
     "name": "stdout",
     "output_type": "stream",
     "text": [
      "Tuned Random Forest Classification Report:\n",
      "\n",
      "              precision    recall  f1-score   support\n",
      "\n",
      "           0       0.90      0.89      0.90      3707\n",
      "           1       0.89      0.90      0.90      3707\n",
      "\n",
      "    accuracy                           0.90      7414\n",
      "   macro avg       0.90      0.90      0.90      7414\n",
      "weighted avg       0.90      0.90      0.90      7414\n",
      "\n"
     ]
    }
   ],
   "source": [
    "# Evaluate performance\n",
    "print(\"Tuned Random Forest Classification Report:\\n\")\n",
    "print(classification_report(y_test, y_pred_best_rf))"
   ]
  },
  {
   "cell_type": "markdown",
   "id": "af2b8304-4714-4363-b8c4-d0a0f2bd4551",
   "metadata": {},
   "source": [
    "# Model Evaluation\n",
    "We’ll perform a detailed evaluation using metrics like precision, recall, F1-score, and AUC-ROC. Confusion matrices and AUC curves will help visualize performance."
   ]
  },
  {
   "cell_type": "markdown",
   "id": "76e85532-aa7d-44cd-b8fe-a0dac2df7468",
   "metadata": {},
   "source": [
    "# Confusion Matrix\n",
    "Confusion matrix to visualize misclassifications."
   ]
  },
  {
   "cell_type": "code",
   "execution_count": 96,
   "id": "c6371991-48a6-4d4a-97ef-0f63de08a0ab",
   "metadata": {},
   "outputs": [],
   "source": [
    "from sklearn.metrics import confusion_matrix"
   ]
  },
  {
   "cell_type": "code",
   "execution_count": 97,
   "id": "9938d94e-67d5-47f6-9121-474c9ac10fd1",
   "metadata": {},
   "outputs": [],
   "source": [
    "conf_matrix = confusion_matrix(y_test, y_pred_best_rf)"
   ]
  },
  {
   "cell_type": "code",
   "execution_count": 98,
   "id": "41c419b1-6e32-4b6e-8f8f-b0b3192d181a",
   "metadata": {},
   "outputs": [
    {
     "data": {
      "image/png": "[encoded data removed]",
      "text/plain": [
       "<Figure size 800x400 with 2 Axes>"
      ]
     },
     "metadata": {},
     "output_type": "display_data"
    }
   ],
   "source": [
    "# Plot the confusion matrix\n",
    "plt.figure(figsize=(8, 4))\n",
    "sns.heatmap(conf_matrix, annot=True, fmt='d', cmap='Blues', xticklabels=['No', 'Yes'], yticklabels=['No', 'Yes'])\n",
    "plt.title(\"Confusion Matrix\")\n",
    "plt.xlabel(\"Predicted\")\n",
    "plt.ylabel(\"Actual\")\n",
    "plt.show()"
   ]
  },
  {
   "cell_type": "code",
   "execution_count": null,
   "id": "38b07fee-9b99-449c-9331-e9231ce7c7d6",
   "metadata": {},
   "outputs": [],
   "source": []
  },
  {
   "cell_type": "markdown",
   "id": "b453c926-6dbb-491f-8cf6-c493de896f90",
   "metadata": {},
   "source": [
    "# ROC Curve and AUC Score\n",
    "ROC-AUC to evaluate the model's ability to distinguish between classes"
   ]
  },
  {
   "cell_type": "code",
   "execution_count": 99,
   "id": "713670b1-afa5-46b3-8328-56a77f97a4fc",
   "metadata": {},
   "outputs": [],
   "source": [
    "from sklearn.metrics import roc_curve, roc_auc_score"
   ]
  },
  {
   "cell_type": "code",
   "execution_count": 101,
   "id": "0ba033e5-07aa-4bd8-bae8-b1a13b05b048",
   "metadata": {},
   "outputs": [],
   "source": [
    "# Compute probabilities for ROC\n",
    "y_probs = best_rf.predict_proba(X_test)[:, 1]  # Probabilities for the positive class"
   ]
  },
  {
   "cell_type": "code",
   "execution_count": 103,
   "id": "03da4252-9f74-4467-b91b-0b2032938de0",
   "metadata": {},
   "outputs": [],
   "source": [
    "# ROC curve\n",
    "fpr, tpr, thresholds = roc_curve(y_test, y_probs)\n",
    "auc_score = roc_auc_score(y_test, y_probs)"
   ]
  },
  {
   "cell_type": "code",
   "execution_count": 104,
   "id": "90556dd9-082a-46fb-a96a-66b1cff37e12",
   "metadata": {},
   "outputs": [
    {
     "data": {
      "image/png": "[encoded data removed]",
      "text/plain": [
       "<Figure size 800x600 with 1 Axes>"
      ]
     },
     "metadata": {},
     "output_type": "display_data"
    }
   ],
   "source": [
    "# Plot ROC curve\n",
    "plt.figure(figsize=(8, 6))\n",
    "plt.plot(fpr, tpr, label=f\"AUC = {auc_score:.2f}\")\n",
    "plt.plot([0, 1], [0, 1], linestyle='--', color='gray')\n",
    "plt.title(\"ROC Curve\")\n",
    "plt.xlabel(\"False Positive Rate\")\n",
    "plt.ylabel(\"True Positive Rate\")\n",
    "plt.legend(loc=\"lower right\")\n",
    "plt.show()"
   ]
  },
  {
   "cell_type": "code",
   "execution_count": null,
   "id": "68e6c080-d33a-4347-8fa8-80388f73a615",
   "metadata": {},
   "outputs": [],
   "source": []
  },
  {
   "cell_type": "code",
   "execution_count": null,
   "id": "489bb636-4d08-4c37-ac19-8ca8248609d5",
   "metadata": {},
   "outputs": [],
   "source": []
  },
  {
   "cell_type": "markdown",
   "id": "3d23a410-a320-4429-8e0e-cc88f3d24167",
   "metadata": {},
   "source": [
    "# Using AutoML to select best model\n",
    "Using PyCaret\n",
    "PyCaret is a low-code library for automating machine learning workflows."
   ]
  },
  {
   "cell_type": "code",
   "execution_count": null,
   "id": "23a7e7bc-f852-42d8-a303-9ddf4390874b",
   "metadata": {},
   "outputs": [],
   "source": []
  },
  {
   "cell_type": "code",
   "execution_count": 116,
   "id": "3550e168-72a8-4882-b162-9fccbd709dd6",
   "metadata": {},
   "outputs": [
    {
     "name": "stdout",
     "output_type": "stream",
     "text": [
      "3.12.7 | packaged by Anaconda, Inc. | (main, Oct  4 2024, 13:17:27) [MSC v.1929 64 bit (AMD64)]\n"
     ]
    }
   ],
   "source": [
    "import sys\n",
    "print(sys.version)"
   ]
  },
  {
   "cell_type": "code",
   "execution_count": 2,
   "id": "6783a4c4-b280-4cda-a98f-7cdaed440dd1",
   "metadata": {},
   "outputs": [],
   "source": [
    "from pycaret.classification import *"
   ]
  },
  {
   "cell_type": "code",
   "execution_count": null,
   "id": "81a519f1-2c9e-47ba-a5a4-c8138ac72ede",
   "metadata": {},
   "outputs": [],
   "source": []
  },
  {
   "cell_type": "code",
   "execution_count": null,
   "id": "f830c1fc-fd07-4eb8-819d-66958a42c0c1",
   "metadata": {},
   "outputs": [],
   "source": []
  },
  {
   "cell_type": "code",
   "execution_count": null,
   "id": "5069d8a0-aefc-4408-aab9-306d2322e430",
   "metadata": {},
   "outputs": [],
   "source": []
  },
  {
   "cell_type": "code",
   "execution_count": null,
   "id": "ae5fff44-ba89-487d-b644-7376af9f0c95",
   "metadata": {},
   "outputs": [],
   "source": []
  },
  {
   "cell_type": "code",
   "execution_count": null,
   "id": "6bdaf0a3-6a13-4615-b224-90d4398f1217",
   "metadata": {},
   "outputs": [],
   "source": []
  },
  {
   "cell_type": "code",
   "execution_count": null,
   "id": "0e3dbc71-c8f3-44ee-ad3b-2457cdc23b06",
   "metadata": {},
   "outputs": [],
   "source": []
  },
  {
   "cell_type": "code",
   "execution_count": null,
   "id": "d3ff5189-2808-4ebb-bd50-267d4bee971c",
   "metadata": {},
   "outputs": [],
   "source": []
  },
  {
   "cell_type": "code",
   "execution_count": null,
   "id": "b9cbb66f-75a1-4e5d-b269-2b05d28620a6",
   "metadata": {},
   "outputs": [],
   "source": []
  },
  {
   "cell_type": "code",
   "execution_count": null,
   "id": "ec4a5bdd-6b3a-4c87-852d-3bad4e1bb9ab",
   "metadata": {},
   "outputs": [],
   "source": []
  },
  {
   "cell_type": "code",
   "execution_count": null,
   "id": "bfece511-f00e-4ae3-88df-5d95814a3045",
   "metadata": {},
   "outputs": [],
   "source": []
  }
 ],
 "metadata": {
  "kernelspec": {
   "display_name": "Python [conda env:base] *",
   "language": "python",
   "name": "conda-base-py"
  },
  "language_info": {
   "codemirror_mode": {
    "name": "ipython",
    "version": 3
   },
   "file_extension": ".py",
   "mimetype": "text/x-python",
   "name": "python",
   "nbconvert_exporter": "python",
   "pygments_lexer": "ipython3",
   "version": "3.12.7"
  }
 },
 "nbformat": 4,
 "nbformat_minor": 5
}
